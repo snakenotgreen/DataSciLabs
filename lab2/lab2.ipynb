{
 "cells": [
  {
   "cell_type": "markdown",
   "id": "1b0b28d6-72e8-4893-8f28-ff972721b855",
   "metadata": {},
   "source": [
    "# Лабораторна робота No2\n",
    "### Наука про дані: підготовчий етап\n",
    "#### Мета роботи:\n",
    "ознайомитися з основними кроками по роботі з даними – workflow\n",
    "від постановки задачі до написання пояснювальної записки, зрозуміти постановку задачі\n",
    "та природу даних, над якими виконується аналітичні операції\n",
    "Основні поняття: сирі дані (raw data), підготовка даних (data preparation)\n",
    "\n",
    "Виконав *ФБ-35 Шаєв Максим*"
   ]
  },
  {
   "cell_type": "markdown",
   "id": "f0c685a8-ce5c-454c-9278-a3f29a5d36f2",
   "metadata": {},
   "source": [
    "# Хід виконання роботи\n",
    "1. Створив віртуальне середовище ds1_venv, та завантажив необхідні бібліотеки\n",
    "   `python -m venv .ds1_venv`"
   ]
  },
  {
   "cell_type": "markdown",
   "id": "a46fc66d-cd5d-40c5-8ee3-41faf6e1ca1e",
   "metadata": {},
   "source": [
    "2. Для кожної із адміністративних одиниць України завантажити тестові\n",
    "структуровані файли, що містять значення VHI-індексу. Ця процедура має бути\n",
    "автоматизована, параметром процедури має бути індекс (номер) області. При\n",
    "зберіганні файлу до його імені потрібно додати дату та час завантаження.\n",
    "Передбачити повторні запуски скрипту, довантаження нових даних та колізію\n",
    "даних;"
   ]
  },
  {
   "cell_type": "markdown",
   "id": "fa9fe4f8-b055-4aa1-9de1-8f6953861fcc",
   "metadata": {},
   "source": [
    "Імпортуємо необхнідні бібліотеки"
   ]
  },
  {
   "cell_type": "code",
   "execution_count": 1,
   "id": "cd046e14-5ddb-4312-af11-07e326cae3c3",
   "metadata": {},
   "outputs": [
    {
     "name": "stdout",
     "output_type": "stream",
     "text": [
      "Setup Complete\n"
     ]
    }
   ],
   "source": [
    "import pandas as pd\n",
    "import urllib.request\n",
    "from datetime import datetime\n",
    "import os\n",
    "print(\"Setup Complete\")"
   ]
  },
  {
   "cell_type": "markdown",
   "id": "d0cbcb9c-ce4a-4737-8b93-0972cb6269ff",
   "metadata": {},
   "source": [
    "Основний код:"
   ]
  },
  {
   "cell_type": "code",
   "execution_count": 2,
   "id": "47fe0490-0341-47c4-a66b-a39310963a39",
   "metadata": {},
   "outputs": [
    {
     "name": "stdout",
     "output_type": "stream",
     "text": [
      "-File 1 already downloaded\n",
      "-File 2 already downloaded\n",
      "-File 3 already downloaded\n",
      "-File 4 already downloaded\n",
      "-File 5 already downloaded\n",
      "-File 6 already downloaded\n",
      "-File 7 already downloaded\n",
      "-File 8 already downloaded\n",
      "-File 9 already downloaded\n",
      "-File 10 already downloaded\n",
      "-File 11 already downloaded\n",
      "-File 12 already downloaded\n",
      "-File 13 already downloaded\n",
      "-File 14 already downloaded\n",
      "-File 15 already downloaded\n",
      "-File 16 already downloaded\n",
      "-File 17 already downloaded\n",
      "-File 18 already downloaded\n",
      "-File 19 already downloaded\n",
      "-File 20 already downloaded\n",
      "-File 21 already downloaded\n",
      "-File 22 already downloaded\n",
      "-File 23 already downloaded\n",
      "-File 24 already downloaded\n",
      "-File 25 already downloaded\n"
     ]
    }
   ],
   "source": [
    "def csv_down(index):\n",
    "    dir_files = os.listdir('C:/Users/ender/PycharmProjects/pythonProject/DataScienceAssigments/csv_prov')\n",
    "    try:\n",
    "        for x in dir_files:\n",
    "            if int(x.split('_')[2]) == index:\n",
    "                print(f'-File {index} already downloaded')\n",
    "                return\n",
    "    except IndexError:\n",
    "        print('Bad name for file')\n",
    "    url=f\"https://www.star.nesdis.noaa.gov/smcd/emb/vci/VH/get_TS_admin.php?country=UKR&provinceID={index}&year1=1981&year2=2024&type=Mean\"\n",
    "    vhi_url = urllib.request.urlopen(url)\n",
    "    now = datetime.now()\n",
    "    date_and_time = now.strftime(\"%d%m%Y%H%M%S\")\n",
    "    out = open(f'C:/Users/ender/PycharmProjects/pythonProject/DataScienceAssigments/csv_prov/vhi_id_{index}_{date_and_time}.csv', 'wb')\n",
    "    out.write(vhi_url.read())\n",
    "    out.close()\n",
    "    print(f'+File {index} downloaded')\n",
    "\n",
    "\n",
    "for i in range(1,26):\n",
    "    csv_down(i)"
   ]
  },
  {
   "cell_type": "markdown",
   "id": "52df8f91-d1b8-462c-8e17-e47fb4e430c1",
   "metadata": {},
   "source": [
    "3. Зчитати завантажені текстові файли у фрейм\n",
    "(детальніше про роботу із фреймами буде розказано у подальших лабораторних роботах).\n",
    "Імена стовбців фрейму мають бути змістовними та легкими для сприйняття (не\n",
    "повинно бути спеціалізованих символів, пробілів тощо). Ця задача має бути\n",
    "реалізована у вигляді окремої процедури, яка на вхід приймає шлях до\n",
    "директорії, в якій зберігаються файли;"
   ]
  },
  {
   "cell_type": "code",
   "execution_count": 3,
   "id": "bdf15661-598a-451f-9dbe-bbcb0d8767b4",
   "metadata": {},
   "outputs": [
    {
     "name": "stdout",
     "output_type": "stream",
     "text": [
      "       Year  Week    SMN     SMT    VCI    TCI    VHI  Region\n",
      "0      1982     1  0.059  258.24  51.11  48.78  49.95      10\n",
      "1      1982     2  0.063  261.53  55.89  38.20  47.04      10\n",
      "2      1982     3  0.063  263.45  57.30  32.69  44.99      10\n",
      "3      1982     4  0.061  265.10  53.96  28.62  41.29      10\n",
      "4      1982     5  0.058  266.42  46.87  28.57  37.72      10\n",
      "...     ...   ...    ...     ...    ...    ...    ...     ...\n",
      "54669  2024    48  0.135  278.17  55.23  11.86  33.55       9\n",
      "54670  2024    49  0.133  277.08  57.71  10.86  34.29       9\n",
      "54671  2024    50  0.130  276.49  59.45   8.68  34.07       9\n",
      "54672  2024    51  0.128  276.45  62.53   5.55  34.04       9\n",
      "54673  2024    52  0.129  276.48  66.13   3.71  34.92       9\n",
      "\n",
      "[54650 rows x 8 columns]\n"
     ]
    }
   ],
   "source": [
    "def data_in_frame(path):\n",
    "    headers = ['Year', 'Week', 'SMN', 'SMT', 'VCI', 'TCI', 'VHI', 'empty']\n",
    "    dataframes = []\n",
    "    for filename in os.listdir(path):\n",
    "        if not filename.startswith(\"vhi_id_\"):\n",
    "            continue\n",
    "        index = filename.split('_')[2]\n",
    "        filepath = os.path.join(path, filename)\n",
    "        df = pd.read_csv(filepath, header=1, names=headers)\n",
    "        df = df.drop(df.loc[df['VHI'] == -1].index)\n",
    "        df['Region'] = index\n",
    "        dataframes.append(df)\n",
    "    main_df = pd.concat(dataframes, ignore_index=True).drop_duplicates().reset_index(drop=True)\n",
    "\n",
    "    main_df['Year'] = main_df['Year'].str.replace('<tt><pre>', '').str.replace('</pre></tt>', '')\n",
    "    # main_df = main_df.drop(df.loc[df['Year'] == -1].index)\n",
    "    main_df  = main_df[main_df['Year'].astype(str).str.strip() != '']\n",
    "    main_df = main_df.drop(columns='empty')\n",
    "    main_df['Year'] = main_df['Year'].astype(int)\n",
    "    main_df['Week'] = main_df['Week'].astype(int)\n",
    "    main_df['Region'] = main_df['Region'].astype(int)\n",
    "    return main_df\n",
    "\n",
    "\n",
    "data_frame = data_in_frame('C:/Users/ender/PycharmProjects/pythonProject/DataScienceAssigments/csv_prov')\n",
    "print(data_frame)"
   ]
  },
  {
   "cell_type": "markdown",
   "id": "086bb956-975b-4590-9a0e-9101d22d9af3",
   "metadata": {},
   "source": [
    "4. Реалізувати окрему процедуру, яка змінить індекси областей, які використані на\n",
    "порталі NOAA (за англійською абеткою) на наступні, за українською (виключно\n",
    "старі індекси на нові):"
   ]
  },
  {
   "cell_type": "code",
   "execution_count": 4,
   "id": "73076587-ae2c-4ee1-81c8-1c1661b3eeee",
   "metadata": {},
   "outputs": [
    {
     "name": "stdout",
     "output_type": "stream",
     "text": [
      "       Year  Week    SMN     SMT    VCI    TCI    VHI  Region\n",
      "0      1982     1  0.059  258.24  51.11  48.78  49.95      21\n",
      "1      1982     2  0.063  261.53  55.89  38.20  47.04      21\n",
      "2      1982     3  0.063  263.45  57.30  32.69  44.99      21\n",
      "3      1982     4  0.061  265.10  53.96  28.62  41.29      21\n",
      "4      1982     5  0.058  266.42  46.87  28.57  37.72      21\n",
      "...     ...   ...    ...     ...    ...    ...    ...     ...\n",
      "54669  2024    48  0.135  278.17  55.23  11.86  33.55      20\n",
      "54670  2024    49  0.133  277.08  57.71  10.86  34.29      20\n",
      "54671  2024    50  0.130  276.49  59.45   8.68  34.07      20\n",
      "54672  2024    51  0.128  276.45  62.53   5.55  34.04      20\n",
      "54673  2024    52  0.129  276.48  66.13   3.71  34.92      20\n",
      "\n",
      "[54650 rows x 8 columns]\n"
     ]
    }
   ],
   "source": [
    "def convert_region_indices(dataframe, column=\"Region\"):\n",
    "    region_mapping = {\n",
    "        24: 1, 25: 2, 5: 3, 6: 4, 27: 5, 23: 6, 26: 7, 7: 8,\n",
    "        11: 9, 13: 10, 14: 11, 15: 12, 16: 13, 17: 14, 18: 15,\n",
    "        19: 16, 21: 17, 22: 18, 8: 19, 9: 20, 10: 21, 1: 22, 3: 23,\n",
    "        2: 24, 4: 25, 12: 26, 20: 27\n",
    "    }\n",
    "\n",
    "    dataframe[column] = dataframe[column].map(region_mapping).fillna(dataframe[column]).astype(int)\n",
    "    return dataframe\n",
    "\n",
    "\n",
    "converted_datafr = convert_region_indices(data_frame)\n",
    "print(converted_datafr)"
   ]
  },
  {
   "cell_type": "markdown",
   "id": "7f8b45f6-857a-4569-b31a-162f82d23dcb",
   "metadata": {},
   "source": [
    "Реалізувати процедури для формування вибірок наступного виду\n",
    "(включаючи елементи аналізу):"
   ]
  },
  {
   "cell_type": "markdown",
   "id": "2f186266-a720-4494-8311-65d57e318f40",
   "metadata": {},
   "source": [
    "o Ряд VHI для області за вказаний рік;"
   ]
  },
  {
   "cell_type": "code",
   "execution_count": 5,
   "id": "e8c7f458-224a-4eb1-a7ee-bafce718dde8",
   "metadata": {},
   "outputs": [
    {
     "name": "stdout",
     "output_type": "stream",
     "text": [
      "35690    34.95\n",
      "35691    35.19\n",
      "35692    35.38\n",
      "35693    37.45\n",
      "35694    40.18\n",
      "35695    41.76\n",
      "35696    42.01\n",
      "35697    42.48\n",
      "35698    43.23\n",
      "35699    43.63\n",
      "35700    43.96\n",
      "35701    44.67\n",
      "35702    44.57\n",
      "35703    45.15\n",
      "35704    41.82\n",
      "35705    33.62\n",
      "35706    29.71\n",
      "35707    28.84\n",
      "35708    32.86\n",
      "35709    36.05\n",
      "35710    37.55\n",
      "35711    40.19\n",
      "35712    41.37\n",
      "35713    40.69\n",
      "35714    42.60\n",
      "35715    44.52\n",
      "35716    46.55\n",
      "35717    47.76\n",
      "35718    49.18\n",
      "35719    52.20\n",
      "35720    51.83\n",
      "35721    49.93\n",
      "35722    48.68\n",
      "35723    48.51\n",
      "35724    49.53\n",
      "35725    51.51\n",
      "35726    54.73\n",
      "35727    55.18\n",
      "35728    54.61\n",
      "35729    50.86\n",
      "35730    47.32\n",
      "35731    45.29\n",
      "35732    45.59\n",
      "35733    43.68\n",
      "35734    38.90\n",
      "35735    38.32\n",
      "35736    39.39\n",
      "35737    39.79\n",
      "35738    38.98\n",
      "35739    38.42\n",
      "35740    40.29\n",
      "35741    43.37\n",
      "Name: VHI, dtype: float64\n"
     ]
    }
   ],
   "source": [
    "def vhi_year(df, index, year):\n",
    "    return df[(df[\"Region\"] == index) & (df[\"Year\"] == year)]['VHI']\n",
    "\n",
    "print(vhi_year(converted_datafr, 2, 1996))"
   ]
  },
  {
   "cell_type": "markdown",
   "id": "248c0ccd-9e30-4fc9-96de-c63ddbe3694a",
   "metadata": {},
   "source": [
    "o Пошук екстремумів (min та max) для вказаних областей та років,\n",
    "середнього, медіани;"
   ]
  },
  {
   "cell_type": "code",
   "execution_count": 6,
   "id": "16533126-9fa8-435d-ad1d-b6980a31920a",
   "metadata": {},
   "outputs": [
    {
     "name": "stdout",
     "output_type": "stream",
     "text": [
      "### Region: 1 ###\n",
      "Max vhi: 63.27\n",
      "Min vhi: 11.25\n",
      "Mean vhi: 40.98\n",
      "Median vhi: 40.91\n",
      "### Region: 2 ###\n",
      "Max vhi: 68.85\n",
      "Min vhi: 24.65\n",
      "Mean vhi: 50.06\n",
      "Median vhi: 50.36\n",
      "### Region: 3 ###\n",
      "Max vhi: 61.55\n",
      "Min vhi: 17.77\n",
      "Mean vhi: 44.0\n",
      "Median vhi: 46.06\n",
      "### Region: 4 ###\n",
      "Max vhi: 69.82\n",
      "Min vhi: 17.4\n",
      "Mean vhi: 45.83\n",
      "Median vhi: 43.62\n",
      "### Region: 5 ###\n",
      "Max vhi: nan\n",
      "Min vhi: nan\n",
      "Mean vhi: nan\n",
      "Median vhi: nan\n",
      "### Region: 6 ###\n",
      "Max vhi: 55.16\n",
      "Min vhi: 20.12\n",
      "Mean vhi: 42.17\n",
      "Median vhi: 45.94\n",
      "### Region: 7 ###\n",
      "Max vhi: nan\n",
      "Min vhi: nan\n",
      "Mean vhi: nan\n",
      "Median vhi: nan\n",
      "### Region: 8 ###\n",
      "Max vhi: 60.12\n",
      "Min vhi: 18.98\n",
      "Mean vhi: 42.26\n",
      "Median vhi: 45.98\n",
      "### Region: 9 ###\n",
      "Max vhi: 61.87\n",
      "Min vhi: 10.6\n",
      "Mean vhi: 39.76\n",
      "Median vhi: 35.92\n",
      "### Region: 10 ###\n",
      "Max vhi: 60.69\n",
      "Min vhi: 16.84\n",
      "Mean vhi: 42.44\n",
      "Median vhi: 41.74\n",
      "### Region: 11 ###\n",
      "Max vhi: 74.06\n",
      "Min vhi: 22.92\n",
      "Mean vhi: 46.33\n",
      "Median vhi: 43.28\n",
      "### Region: 12 ###\n",
      "Max vhi: 69.96\n",
      "Min vhi: 29.53\n",
      "Mean vhi: 46.68\n",
      "Median vhi: 46.53\n",
      "### Region: 13 ###\n",
      "Max vhi: 60.4\n",
      "Min vhi: 16.14\n",
      "Mean vhi: 40.82\n",
      "Median vhi: 39.06\n",
      "### Region: 14 ###\n",
      "Max vhi: 53.87\n",
      "Min vhi: 17.83\n",
      "Mean vhi: 39.53\n",
      "Median vhi: 38.89\n",
      "### Region: 15 ###\n",
      "Max vhi: 68.24\n",
      "Min vhi: 22.52\n",
      "Mean vhi: 45.4\n",
      "Median vhi: 44.57\n",
      "### Region: 16 ###\n",
      "Max vhi: 67.04\n",
      "Min vhi: 23.86\n",
      "Mean vhi: 46.61\n",
      "Median vhi: 46.65\n",
      "### Region: 17 ###\n",
      "Max vhi: 66.21\n",
      "Min vhi: 16.81\n",
      "Mean vhi: 44.86\n",
      "Median vhi: 43.42\n",
      "### Region: 18 ###\n",
      "Max vhi: 59.97\n",
      "Min vhi: 24.33\n",
      "Mean vhi: 42.02\n",
      "Median vhi: 41.34\n",
      "### Region: 19 ###\n",
      "Max vhi: 68.45\n",
      "Min vhi: 9.36\n",
      "Mean vhi: 41.39\n",
      "Median vhi: 40.36\n",
      "### Region: 20 ###\n",
      "Max vhi: 63.75\n",
      "Min vhi: 16.12\n",
      "Mean vhi: 42.41\n",
      "Median vhi: 42.62\n",
      "### Region: 21 ###\n",
      "Max vhi: 65.0\n",
      "Min vhi: 20.97\n",
      "Mean vhi: 43.94\n",
      "Median vhi: 46.42\n",
      "### Region: 22 ###\n",
      "Max vhi: 72.05\n",
      "Min vhi: 10.68\n",
      "Mean vhi: 42.44\n",
      "Median vhi: 37.76\n",
      "### Region: 23 ###\n",
      "Max vhi: 60.15\n",
      "Min vhi: 18.83\n",
      "Mean vhi: 43.6\n",
      "Median vhi: 45.7\n",
      "### Region: 24 ###\n",
      "Max vhi: 67.16\n",
      "Min vhi: 15.17\n",
      "Mean vhi: 44.03\n",
      "Median vhi: 41.49\n",
      "### Region: 25 ###\n",
      "Max vhi: 74.45\n",
      "Min vhi: 23.43\n",
      "Mean vhi: 47.01\n",
      "Median vhi: 46.11\n",
      "### Region: 26 ###\n",
      "Max vhi: 55.18\n",
      "Min vhi: 6.49\n",
      "Mean vhi: 34.62\n",
      "Median vhi: 36.16\n",
      "### Region: 27 ###\n",
      "Max vhi: 71.94\n",
      "Min vhi: 8.14\n",
      "Mean vhi: 45.39\n",
      "Median vhi: 50.72\n",
      "### Region: 28 ###\n",
      "Max vhi: nan\n",
      "Min vhi: nan\n",
      "Mean vhi: nan\n",
      "Median vhi: nan\n"
     ]
    }
   ],
   "source": [
    "def min_max(df, index,year):\n",
    "    max_vhi = vhi_year(df, index, year).max()\n",
    "    min_vhi = vhi_year(df, index, year).min()\n",
    "    mean_vhi = vhi_year(df, index, year).mean()\n",
    "    median_vhi = vhi_year(df, index, year).median()\n",
    "    print(f'### Region: {index} ###\\nMax vhi: {max_vhi}\\nMin vhi: {min_vhi}\\nMean vhi: {round(mean_vhi, 2)}\\nMedian vhi: {round(median_vhi,2)}')\n",
    "\n",
    "for x in range(1,29):\n",
    "    min_max(converted_datafr, x, 2000)"
   ]
  },
  {
   "cell_type": "markdown",
   "id": "106fe167-00c6-44cb-b2d2-3df46766a6fc",
   "metadata": {},
   "source": [
    "o Ряд VHI за вказаний діапазон років для вказаних областей;"
   ]
  },
  {
   "cell_type": "code",
   "execution_count": 7,
   "id": "cd5a49e8-9c5d-45aa-a8b4-3c5b2afde9fc",
   "metadata": {},
   "outputs": [
    {
     "name": "stdout",
     "output_type": "stream",
     "text": [
      "Region 1:\n",
      "       Year  Week    SMN     SMT    VCI    TCI    VHI  Region\n",
      "33711  2000     1  0.023  260.25   8.46  39.97  24.22       1\n",
      "33712  2000     2  0.023  259.38  10.27  45.13  27.70       1\n",
      "33713  2000     3  0.024  259.61  14.76  46.60  30.68       1\n",
      "33714  2000     4  0.027  260.21  19.52  45.57  32.55       1\n",
      "33715  2000     5  0.030  260.59  22.24  47.21  34.73       1\n",
      "...     ...   ...    ...     ...    ...    ...    ...     ...\n",
      "33998  2005    48  0.105  272.76  66.36  18.15  42.25       1\n",
      "33999  2005    49  0.091  269.76  67.13  24.48  45.80       1\n",
      "34000  2005    50  0.081  267.22  68.19  27.23  47.71       1\n",
      "34001  2005    51  0.072  265.02  66.67  27.93  47.30       1\n",
      "34002  2005    52  0.064  262.92  58.78  31.31  45.04       1\n",
      "\n",
      "[292 rows x 8 columns]\n",
      "Region 6:\n",
      "       Year  Week    SMN     SMT    VCI    TCI    VHI  Region\n",
      "31524  2000     1  0.055  260.11  13.44  59.94  36.69       6\n",
      "31525  2000     2  0.057  259.67  15.73  66.01  40.87       6\n",
      "31526  2000     3  0.059  259.71  16.61  69.94  43.27       6\n",
      "31527  2000     4  0.062  260.07  18.29  70.50  44.39       6\n",
      "31528  2000     5  0.065  261.12  19.66  68.82  44.24       6\n",
      "...     ...   ...    ...     ...    ...    ...    ...     ...\n",
      "31811  2005    48  0.184  270.78  75.63  33.34  54.48       6\n",
      "31812  2005    49  0.151  267.98  67.46  38.97  53.22       6\n",
      "31813  2005    50  0.127  265.89  60.55  40.16  50.36       6\n",
      "31814  2005    51  0.113  264.87  57.27  37.56  47.41       6\n",
      "31815  2005    52  0.106  264.66  55.86  35.33  45.59       6\n",
      "\n",
      "[292 rows x 8 columns]\n",
      "Region 2:\n",
      "       Year  Week    SMN     SMT    VCI    TCI    VHI  Region\n",
      "35898  2000     1  0.041  264.68  13.12  36.19  24.65       2\n",
      "35899  2000     2  0.046  264.21  18.06  36.93  27.49       2\n",
      "35900  2000     3  0.054  264.51  25.15  37.56  31.36       2\n",
      "35901  2000     4  0.067  265.00  34.61  39.96  37.28       2\n",
      "35902  2000     5  0.079  265.90  38.86  42.83  40.85       2\n",
      "...     ...   ...    ...     ...    ...    ...    ...     ...\n",
      "36185  2005    48  0.115  267.58  46.66  50.80  48.73       2\n",
      "36186  2005    49  0.096  263.44  40.35  61.24  50.79       2\n",
      "36187  2005    50  0.085  260.58  36.07  65.83  50.95       2\n",
      "36188  2005    51  0.076  258.84  35.16  67.98  51.57       2\n",
      "36189  2005    52  0.072  258.23  35.96  68.10  52.03       2\n",
      "\n",
      "[292 rows x 8 columns]\n",
      "\n",
      "\n"
     ]
    }
   ],
   "source": [
    "def vhi_row_year_region(df, regions, start_year, end_year):\n",
    "    for region in regions:\n",
    "        print(f\"Region {region}:\")\n",
    "        vhi = df[(df['Region'] == region) & (df['Year'].between(start_year, end_year))]\n",
    "        if not vhi.empty:\n",
    "            print(vhi)\n",
    "        else:\n",
    "            print(f\"No data available for region {region} for year {year}\")\n",
    "    print(\"\\n\")\n",
    "\n",
    "vhi_row_year_region(converted_datafr, [1,6,2], 2000, 2005)"
   ]
  },
  {
   "cell_type": "markdown",
   "id": "a27adea2-e092-4124-9b22-b1842d66bb68",
   "metadata": {},
   "source": [
    "o Для всього набору даних виявити роки, протягом яких екстремальні\n",
    "посухи торкнулися більше вказаного відсотка областей по Україні (20%\n",
    "областей - 5 областей з 25). Повернути роки, назви областей з\n",
    "екстремальними посухами та значення VHI;"
   ]
  },
  {
   "cell_type": "code",
   "execution_count": 8,
   "id": "a480d2b4-cad8-469e-9e25-446c3e9f103b",
   "metadata": {},
   "outputs": [
    {
     "name": "stdout",
     "output_type": "stream",
     "text": [
      "Years with extreme drought affecting more than 10% of the regions in Ukraine:\n",
      "Year: 2000\n",
      "Regions: [9, 26, 22, 27, 1, 19]\n",
      "VHI: [12.51, 10.6, 11.2, 12.32, 14.65, 14.89, 12.76, 7.81, 6.49, 6.58, 6.71, 7.56, 9.25, 10.94, 12.28, 14.64, 11.82, 10.81, 10.68, 12.3, 14.24, 13.14, 9.5, 8.14, 9.69, 11.2, 11.36, 12.77, 12.26, 11.28, 11.25, 11.38, 12.91, 14.2, 14.61, 11.33, 9.36, 9.45, 9.73, 11.45, 14.29]\n",
      "\n",
      "Year: 2007\n",
      "Regions: [13, 14, 25, 20]\n",
      "VHI: [11.44, 7.78, 6.44, 6.12, 6.11, 5.94, 6.36, 7.61, 9.45, 11.7, 11.88, 9.21, 7.08, 5.9, 5.52, 5.85, 6.82, 8.86, 11.91, 14.98, 14.23, 13.79, 13.41, 13.28, 14.36, 12.41, 12.23, 12.99, 13.33, 12.88, 12.63, 12.96, 13.48, 14.05, 14.41, 14.81]\n",
      "\n"
     ]
    }
   ],
   "source": [
    "def drought_stats(df, percent):\n",
    "    total_regions = df['Region'].nunique()\n",
    "    extreme_drought_data = {}\n",
    "    for year in range(df['Year'].min(), df['Year'].max() + 1):\n",
    "        affected_regions = df[(df['Year'] == year) & (df['VHI'] < 15)]\n",
    "        unique_regions = affected_regions['Region'].unique()\n",
    "        if len(unique_regions) > total_regions * (percent / 100):\n",
    "            extreme_drought_data[year] = {\n",
    "                \"regions\": list(unique_regions),\n",
    "                \"VHI_values\": list(affected_regions['VHI'])\n",
    "            }\n",
    "    if extreme_drought_data:\n",
    "        print(f\"Years with extreme drought affecting more than {percent}% of the regions in Ukraine:\")\n",
    "        for year, data in extreme_drought_data.items():\n",
    "            print(f\"Year: {year}\\nRegions: {data['regions']}\\nVHI: {data['VHI_values']}\\n\")\n",
    "    else:\n",
    "        print(f\"No years found where more than {percent}% of the regions experienced extreme drought.\")\n",
    "\n",
    "drought_stats(converted_datafr, 10)"
   ]
  },
  {
   "cell_type": "code",
   "execution_count": null,
   "id": "b2c9e0ab-1745-4a9f-920f-66c0ec556c68",
   "metadata": {},
   "outputs": [],
   "source": []
  }
 ],
 "metadata": {
  "kernelspec": {
   "display_name": "Python 3 (ipykernel)",
   "language": "python",
   "name": "python3"
  },
  "language_info": {
   "codemirror_mode": {
    "name": "ipython",
    "version": 3
   },
   "file_extension": ".py",
   "mimetype": "text/x-python",
   "name": "python",
   "nbconvert_exporter": "python",
   "pygments_lexer": "ipython3",
   "version": "3.10.6"
  }
 },
 "nbformat": 4,
 "nbformat_minor": 5
}
